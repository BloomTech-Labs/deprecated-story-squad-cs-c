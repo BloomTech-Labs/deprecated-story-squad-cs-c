{
  "nbformat": 4,
  "nbformat_minor": 0,
  "metadata": {
    "colab": {
      "name": "UGC-Preprocessing-Exploration.ipynb",
      "provenance": []
    },
    "kernelspec": {
      "name": "python3",
      "display_name": "Python 3"
    }
  },
  "cells": [
    {
      "cell_type": "code",
      "metadata": {
        "id": "NV-SYmw6rbkx"
      },
      "source": [
        "# METHOD A\n",
        "import cv2\n",
        "import numpy as np\n",
        "\n",
        "\n",
        "from skimage import io\n",
        "\n",
        "img = cv2.imread(\"/test.jpg\")\n",
        "\n",
        "# blur\n",
        "blur = cv2.GaussianBlur(img, (3,3), 0)\n",
        "\n",
        "# convert to hsv and get saturation channel\n",
        "sat = cv2.cvtColor(blur, cv2.COLOR_BGR2HSV)[:,:,1]\n",
        "\n",
        "# threshold saturation channel\n",
        "thresh = cv2.threshold(sat, 50, 255, cv2.THRESH_BINARY)[1]\n",
        "\n",
        "# apply morphology close and open to make mask\n",
        "kernel = cv2.getStructuringElement(cv2.MORPH_ELLIPSE, (9,9))\n",
        "morph = cv2.morphologyEx(thresh, cv2.MORPH_CLOSE, kernel, iterations=1)\n",
        "mask = cv2.morphologyEx(morph, cv2.MORPH_OPEN, kernel, iterations=1)\n",
        "\n",
        "# do OTSU threshold to get circuit image\n",
        "gray = cv2.cvtColor(img, cv2.COLOR_BGR2GRAY)\n",
        "otsu = cv2.threshold(gray, 0, 255, cv2.THRESH_BINARY+cv2.THRESH_OTSU)[1]\n",
        "\n",
        "# write black to otsu image where mask is black\n",
        "otsu_result = otsu.copy()\n",
        "otsu_result[mask==0] = 0\n",
        "\n",
        "# write black to input image where mask is black\n",
        "img_result = img.copy()\n",
        "img_result[mask==0] = 0\n",
        "\n",
        "\n",
        "# display it\n",
        "cv2.imshow(\"IMAGE\", img)\n",
        "cv2.imshow(\"OTSU\", otsu)\n",
        "cv2.waitKey(0)\n"
      ],
      "execution_count": null,
      "outputs": []
    },
    {
      "cell_type": "code",
      "metadata": {
        "id": "INsNqoJ1riEV"
      },
      "source": [
        "# METHOD B\n",
        "'''\n",
        "import cv2\n",
        "import numpy as np\n",
        "img = cv2.imread(\"/test.jpg\")\n",
        "\n",
        "# Noise Removal\n",
        "imgnr = cv2.fastNlMeansDenoisingColored(img, None, 25, 10, 7, 15)\n",
        "\n",
        "gray = cv2.cvtColor(imgnr, cv2.COLOR_BGR2GRAY)\n",
        "\n",
        "# Adaptive Threshold - BINIRIZATION\n",
        "imgf = cv2.adaptiveThreshold(gray,255,cv2.ADAPTIVE_THRESH_GAUSSIAN_C,cv2.THRESH_BINARY,11,2) #imgf contains Binary image\n",
        "\n",
        "\n",
        "# Show Image\n",
        "cv2.imshow('image',imgf)\n",
        "cv2.waitKey(0)\n",
        "'''"
      ],
      "execution_count": null,
      "outputs": []
    }
  ]
}